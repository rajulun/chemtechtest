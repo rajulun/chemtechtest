{
  "nbformat": 4,
  "nbformat_minor": 0,
  "metadata": {
    "colab": {
      "name": "Chem_Tech_AI_test.ipynb",
      "provenance": [],
      "collapsed_sections": [],
      "toc_visible": true
    },
    "kernelspec": {
      "display_name": "Python 3",
      "name": "python3"
    },
    "language_info": {
      "name": "python"
    }
  },
  "cells": [
    {
      "cell_type": "code",
      "metadata": {
        "id": "6nwhryfCF2kq"
      },
      "source": [
        "import time\n",
        "import numpy as np\n",
        "import pandas as pd\n",
        "import xgboost as xgb\n",
        "import warnings\n",
        "import matplotlib.pyplot as plt\n",
        "import seaborn as sns\n",
        "\n",
        "from sklearn.metrics import roc_auc_score, mean_squared_error, r2_score\n",
        "from sklearn.model_selection import KFold, StratifiedKFold, cross_val_score, train_test_split, GridSearchCV\n",
        "\n",
        "warnings.simplefilter(\"ignore\")\n",
        "%matplotlib inline"
      ],
      "execution_count": null,
      "outputs": []
    },
    {
      "cell_type": "code",
      "metadata": {
        "id": "BghiFAN6GOaQ"
      },
      "source": [
        "# !unzip -q /content/drive/MyDrive/Chem_Tech_AI/train_test_data.zip -d /content/data"
      ],
      "execution_count": null,
      "outputs": []
    },
    {
      "cell_type": "markdown",
      "metadata": {
        "id": "nZ_uTwY7zVMY"
      },
      "source": [
        "## Useful Functions"
      ]
    },
    {
      "cell_type": "code",
      "metadata": {
        "id": "0ikjjI3OGOVF"
      },
      "source": [
        "def get_input(data_path: str) -> pd.DataFrame:\n",
        "    \"\"\"\n",
        "    Считывание данных и вывод основной информации о наборе данных.\n",
        "\n",
        "    Parameters\n",
        "    ----------\n",
        "    data_path: str\n",
        "        Название файла.\n",
        "\n",
        "    Returns\n",
        "    -------\n",
        "    data: pandas.core.frame.DataFrame\n",
        "        Загруженный набор данных в pandas.DataFrame\n",
        "\n",
        "    \"\"\"\n",
        "    base_path = \"data\"\n",
        "    X = pd.read_csv(f\"{base_path}/{data_path}\", parse_dates=[0])\n",
        "    if \"target1\" in X.columns:\n",
        "        y1, y2, y3, y4 = X[\"target1\"], X[\"target2\"], X[\"target3\"], X[\"target4\"]\n",
        "        X = X.drop([\"target1\", \"target2\", \"target3\", \"target4\"], axis=1)\n",
        "        print(f\"{data_path}: shape = {X.shape[0]} rows, {X.shape[1]} cols\")\n",
        "        y1[y1.isnull()] = y1.median()\n",
        "        y2[y2.isnull()] = y2.median()\n",
        "        y3[y3.isnull()] = y3.median()\n",
        "        y4[y4.isnull()] = y4.median()\n",
        "        return X, y1, y2, y3, y4\n",
        "    else:\n",
        "        print(f\"{data_path}: shape = {X.shape[0]} rows, {X.shape[1]} cols\")\n",
        "        return X\n",
        "\n",
        "def prepare_data(X: pd.DataFrame, copy: bool = True) -> pd.DataFrame:\n",
        "    \"\"\"\n",
        "    Удаление столбцов с количеством значимых элементов меньше 2000.\n",
        "    Замена пустых значений медианой.\n",
        "    Переименование признака \"Unnamed: 0\" и создание на его основе новых \n",
        "    признаков (year, month, weekday, hour, day).\n",
        "\n",
        "    Parameters\n",
        "    ----------\n",
        "    X: pandas.core.frame.DataFrame\n",
        "        Матрица признаков с исходными данными.\n",
        "\n",
        "    copy: bool, optional, default = True\n",
        "        Флаг использования копии датафрейма X.\n",
        "        Опциональный параметр, по умолчанию, равен True.\n",
        "\n",
        "    Returns\n",
        "    -------\n",
        "    X_transformed: pandas.core.frame.DataFrame\n",
        "        Расширенная матрица признаков.\n",
        "\n",
        "    \"\"\"\n",
        "    if copy:\n",
        "        X = X.copy()\n",
        "\n",
        "    # X = X.rename(columns = {'Unnamed: 0':'date'}, inplace = True)\n",
        "    X = X.dropna(axis = 1, thresh=2000)\n",
        "    X = X.fillna(X.median())\n",
        "    X[\"year\"] = X[\"Unnamed: 0\"].dt.year\n",
        "    X[\"month\"] = X[\"Unnamed: 0\"].dt.month\n",
        "    X[\"weekday\"] = X[\"Unnamed: 0\"].dt.weekday\n",
        "    X[\"hour\"] = X[\"Unnamed: 0\"].dt.hour\n",
        "    X[\"day\"] = X[\"Unnamed: 0\"].dt.day\n",
        "    \n",
        "\n",
        "    return X\n",
        "\n",
        "\n",
        "def split_features(df):\n",
        "    ''' \n",
        "    Разделение признаков на категории\n",
        "    '''\n",
        "    datetime_features = df.select_dtypes(include=[np.datetime64]).columns\n",
        "    categorical_features = df.select_dtypes(include=[np.object]).columns\n",
        "    numerical_features = list(set(df.columns) - set(categorical_features) \\\n",
        "                                              - set(datetime_features))\n",
        "    return numerical_features, categorical_features, datetime_features"
      ],
      "execution_count": null,
      "outputs": []
    },
    {
      "cell_type": "code",
      "metadata": {
        "id": "xxPz3pqcGNah"
      },
      "source": [
        "def predict_target(X_train, X_test, y):\n",
        "    '''\n",
        "    XGBRegressor с GridSearchCV\n",
        "\n",
        "    Parameters\n",
        "    ----------\n",
        "    X_train: pandas.core.frame.DataFrame\n",
        "        Матрица признаков для обучения модели.\n",
        "\n",
        "    X_test: pandas.core.frame.DataFrame\n",
        "        Матрица признаков для предсказания целевых переменных.\n",
        "\n",
        "    y: pandas.core.frame.Series\n",
        "        Вектор целевой переменной для обучения модели.   \n",
        "\n",
        "    Returns\n",
        "    ------- \n",
        "    y_pred: полученные предсказания\n",
        "\n",
        "    model_xgbr: обученная модель\n",
        "    '''\n",
        "\n",
        "\n",
        "    x_train, x_test, y_train, y_test = train_test_split(X_train, y)\n",
        "\n",
        "    # Параметры GridSearch для XGBoost\n",
        "    params = {'max_depth': [3, 7], \n",
        "              'n_estimators': [200, 400],\n",
        "              'min_samples_split':[3, 5]\n",
        "             }\n",
        "\n",
        "    # Инициализация xgb и GridSearch\n",
        "    model_xgbr = xgb.XGBRegressor(nthread=-1) \n",
        "\n",
        "    grid = GridSearchCV(model_xgbr, params)\n",
        "    grid.fit(x_train, y_train)\n",
        "\n",
        "    # Вывод r2 score\n",
        "    print(r2_score(y_test, grid.best_estimator_.predict(x_test)))\n",
        "\n",
        "    y_pred = grid.best_estimator_.predict(X_test)\n",
        "    return y_pred, model_xgbr\n"
      ],
      "execution_count": null,
      "outputs": []
    },
    {
      "cell_type": "code",
      "metadata": {
        "colab": {
          "base_uri": "https://localhost:8080/",
          "height": 296
        },
        "id": "BCb6keQ0GOQp",
        "outputId": "9c66d23f-ede0-4303-bcfb-03da0fd70de1"
      },
      "source": [
        "train, y1, y2, y3, y4 = get_input(\"train_data_200k.csv\")\n",
        "test = get_input(\"test_data_100k.csv\")\n",
        "\n",
        "data = pd.concat([train, test], axis=0)\n",
        "data = data.reset_index(drop=True)\n",
        "data = prepare_data(data)\n",
        "data.head(n=2)"
      ],
      "execution_count": null,
      "outputs": [
        {
          "output_type": "stream",
          "text": [
            "train_data_200k.csv: shape = 200000 rows, 80 cols\n",
            "test_data_100k.csv: shape = 100000 rows, 80 cols\n"
          ],
          "name": "stdout"
        },
        {
          "output_type": "stream",
          "text": [
            "/usr/local/lib/python3.7/dist-packages/ipykernel_launcher.py:58: FutureWarning: DataFrame.mean and DataFrame.median with numeric_only=None will include datetime64 and datetime64tz columns in a future version.\n"
          ],
          "name": "stderr"
        },
        {
          "output_type": "execute_result",
          "data": {
            "text/html": [
              "<div>\n",
              "<style scoped>\n",
              "    .dataframe tbody tr th:only-of-type {\n",
              "        vertical-align: middle;\n",
              "    }\n",
              "\n",
              "    .dataframe tbody tr th {\n",
              "        vertical-align: top;\n",
              "    }\n",
              "\n",
              "    .dataframe thead th {\n",
              "        text-align: right;\n",
              "    }\n",
              "</style>\n",
              "<table border=\"1\" class=\"dataframe\">\n",
              "  <thead>\n",
              "    <tr style=\"text-align: right;\">\n",
              "      <th></th>\n",
              "      <th>Unnamed: 0</th>\n",
              "      <th>tag1</th>\n",
              "      <th>tag2</th>\n",
              "      <th>tag3</th>\n",
              "      <th>tag5</th>\n",
              "      <th>tag7</th>\n",
              "      <th>tag8</th>\n",
              "      <th>tag10</th>\n",
              "      <th>tag11</th>\n",
              "      <th>tag12</th>\n",
              "      <th>tag13</th>\n",
              "      <th>tag14</th>\n",
              "      <th>tag15</th>\n",
              "      <th>tag16</th>\n",
              "      <th>tag17</th>\n",
              "      <th>tag18</th>\n",
              "      <th>tag19</th>\n",
              "      <th>tag20</th>\n",
              "      <th>tag21</th>\n",
              "      <th>tag22</th>\n",
              "      <th>tag23</th>\n",
              "      <th>tag24</th>\n",
              "      <th>tag25</th>\n",
              "      <th>tag26</th>\n",
              "      <th>tag27</th>\n",
              "      <th>tag28</th>\n",
              "      <th>tag29</th>\n",
              "      <th>tag30</th>\n",
              "      <th>tag31</th>\n",
              "      <th>tag32</th>\n",
              "      <th>tag33</th>\n",
              "      <th>tag34</th>\n",
              "      <th>tag35</th>\n",
              "      <th>tag36</th>\n",
              "      <th>tag37</th>\n",
              "      <th>tag38</th>\n",
              "      <th>tag39</th>\n",
              "      <th>tag40</th>\n",
              "      <th>tag42</th>\n",
              "      <th>tag43</th>\n",
              "      <th>...</th>\n",
              "      <th>tag45</th>\n",
              "      <th>tag46</th>\n",
              "      <th>tag47</th>\n",
              "      <th>tag48</th>\n",
              "      <th>tag49</th>\n",
              "      <th>tag50</th>\n",
              "      <th>tag51</th>\n",
              "      <th>tag52</th>\n",
              "      <th>tag53</th>\n",
              "      <th>tag54</th>\n",
              "      <th>tag55</th>\n",
              "      <th>tag56</th>\n",
              "      <th>tag57</th>\n",
              "      <th>tag58</th>\n",
              "      <th>tag59</th>\n",
              "      <th>tag60</th>\n",
              "      <th>tag61</th>\n",
              "      <th>tag62</th>\n",
              "      <th>tag63</th>\n",
              "      <th>tag64</th>\n",
              "      <th>tag65</th>\n",
              "      <th>tag66</th>\n",
              "      <th>tag67</th>\n",
              "      <th>tag68</th>\n",
              "      <th>tag69</th>\n",
              "      <th>tag70</th>\n",
              "      <th>tag71</th>\n",
              "      <th>tag72</th>\n",
              "      <th>tag73</th>\n",
              "      <th>tag74</th>\n",
              "      <th>tag75</th>\n",
              "      <th>tag76</th>\n",
              "      <th>tag77</th>\n",
              "      <th>tag78</th>\n",
              "      <th>tag79</th>\n",
              "      <th>year</th>\n",
              "      <th>month</th>\n",
              "      <th>weekday</th>\n",
              "      <th>hour</th>\n",
              "      <th>day</th>\n",
              "    </tr>\n",
              "  </thead>\n",
              "  <tbody>\n",
              "    <tr>\n",
              "      <th>0</th>\n",
              "      <td>2016-08-18 00:00:00</td>\n",
              "      <td>15.78042</td>\n",
              "      <td>0.003691</td>\n",
              "      <td>14.088605</td>\n",
              "      <td>38.39313</td>\n",
              "      <td>47.29479</td>\n",
              "      <td>46.6553</td>\n",
              "      <td>25.30402</td>\n",
              "      <td>60.01311</td>\n",
              "      <td>-0.001269</td>\n",
              "      <td>0.018163</td>\n",
              "      <td>-0.000183</td>\n",
              "      <td>0.000671</td>\n",
              "      <td>0.000956</td>\n",
              "      <td>0.000858</td>\n",
              "      <td>0.000992</td>\n",
              "      <td>18.89847</td>\n",
              "      <td>19.26714</td>\n",
              "      <td>22.33068</td>\n",
              "      <td>15.60123</td>\n",
              "      <td>80.97660</td>\n",
              "      <td>22.33527</td>\n",
              "      <td>33.87122</td>\n",
              "      <td>24.00339</td>\n",
              "      <td>57.06384</td>\n",
              "      <td>44.54309</td>\n",
              "      <td>23.80796</td>\n",
              "      <td>27.63220</td>\n",
              "      <td>47.27997</td>\n",
              "      <td>23.96099</td>\n",
              "      <td>23.94522</td>\n",
              "      <td>26.39192</td>\n",
              "      <td>47.87158</td>\n",
              "      <td>37.12356</td>\n",
              "      <td>36.37045</td>\n",
              "      <td>80.67747</td>\n",
              "      <td>67.609850</td>\n",
              "      <td>41.006095</td>\n",
              "      <td>19.70473</td>\n",
              "      <td>164.9857</td>\n",
              "      <td>...</td>\n",
              "      <td>1.212631</td>\n",
              "      <td>0.0</td>\n",
              "      <td>183.3191</td>\n",
              "      <td>206.6534</td>\n",
              "      <td>69.99840</td>\n",
              "      <td>43.964405</td>\n",
              "      <td>47.33277</td>\n",
              "      <td>50.50632</td>\n",
              "      <td>46.30415</td>\n",
              "      <td>61.20765</td>\n",
              "      <td>72.77773</td>\n",
              "      <td>25.30402</td>\n",
              "      <td>60.01311</td>\n",
              "      <td>2.373747</td>\n",
              "      <td>0.677581</td>\n",
              "      <td>2.775156</td>\n",
              "      <td>1.769055</td>\n",
              "      <td>2.766034</td>\n",
              "      <td>2.794747</td>\n",
              "      <td>33.42513</td>\n",
              "      <td>34.27024</td>\n",
              "      <td>39.65590</td>\n",
              "      <td>44.48986</td>\n",
              "      <td>50.34106</td>\n",
              "      <td>37.34515</td>\n",
              "      <td>53.65030</td>\n",
              "      <td>50.70506</td>\n",
              "      <td>61.08673</td>\n",
              "      <td>72.76518</td>\n",
              "      <td>53.02723</td>\n",
              "      <td>66.30531</td>\n",
              "      <td>55.10297</td>\n",
              "      <td>73.65612</td>\n",
              "      <td>93.74996</td>\n",
              "      <td>56.13752</td>\n",
              "      <td>2016</td>\n",
              "      <td>8</td>\n",
              "      <td>3</td>\n",
              "      <td>0</td>\n",
              "      <td>18</td>\n",
              "    </tr>\n",
              "    <tr>\n",
              "      <th>1</th>\n",
              "      <td>2016-08-18 00:01:00</td>\n",
              "      <td>15.80157</td>\n",
              "      <td>0.003691</td>\n",
              "      <td>14.088605</td>\n",
              "      <td>38.39313</td>\n",
              "      <td>53.06440</td>\n",
              "      <td>46.6553</td>\n",
              "      <td>25.30464</td>\n",
              "      <td>60.01566</td>\n",
              "      <td>-0.001289</td>\n",
              "      <td>0.018208</td>\n",
              "      <td>-0.000210</td>\n",
              "      <td>0.000670</td>\n",
              "      <td>0.000947</td>\n",
              "      <td>0.000857</td>\n",
              "      <td>0.001003</td>\n",
              "      <td>25.31277</td>\n",
              "      <td>19.26205</td>\n",
              "      <td>22.35979</td>\n",
              "      <td>15.61021</td>\n",
              "      <td>80.98914</td>\n",
              "      <td>22.33696</td>\n",
              "      <td>33.89564</td>\n",
              "      <td>23.99264</td>\n",
              "      <td>57.05022</td>\n",
              "      <td>44.49367</td>\n",
              "      <td>23.81503</td>\n",
              "      <td>27.63496</td>\n",
              "      <td>47.27994</td>\n",
              "      <td>23.97050</td>\n",
              "      <td>23.93777</td>\n",
              "      <td>26.40619</td>\n",
              "      <td>47.86334</td>\n",
              "      <td>37.09820</td>\n",
              "      <td>36.26917</td>\n",
              "      <td>80.67747</td>\n",
              "      <td>59.162055</td>\n",
              "      <td>41.006095</td>\n",
              "      <td>19.77348</td>\n",
              "      <td>164.1665</td>\n",
              "      <td>...</td>\n",
              "      <td>1.212631</td>\n",
              "      <td>0.0</td>\n",
              "      <td>185.1547</td>\n",
              "      <td>205.3378</td>\n",
              "      <td>69.98409</td>\n",
              "      <td>43.964405</td>\n",
              "      <td>47.33277</td>\n",
              "      <td>50.49541</td>\n",
              "      <td>46.20826</td>\n",
              "      <td>61.20348</td>\n",
              "      <td>72.76062</td>\n",
              "      <td>25.30464</td>\n",
              "      <td>60.01566</td>\n",
              "      <td>2.373543</td>\n",
              "      <td>0.677852</td>\n",
              "      <td>2.775152</td>\n",
              "      <td>1.769295</td>\n",
              "      <td>2.766190</td>\n",
              "      <td>2.794963</td>\n",
              "      <td>33.41073</td>\n",
              "      <td>34.25732</td>\n",
              "      <td>39.70995</td>\n",
              "      <td>44.46941</td>\n",
              "      <td>50.31259</td>\n",
              "      <td>37.34732</td>\n",
              "      <td>53.65897</td>\n",
              "      <td>50.60955</td>\n",
              "      <td>61.09685</td>\n",
              "      <td>72.76947</td>\n",
              "      <td>53.05109</td>\n",
              "      <td>66.30098</td>\n",
              "      <td>55.11534</td>\n",
              "      <td>75.93258</td>\n",
              "      <td>93.74996</td>\n",
              "      <td>56.13752</td>\n",
              "      <td>2016</td>\n",
              "      <td>8</td>\n",
              "      <td>3</td>\n",
              "      <td>0</td>\n",
              "      <td>18</td>\n",
              "    </tr>\n",
              "  </tbody>\n",
              "</table>\n",
              "<p>2 rows × 81 columns</p>\n",
              "</div>"
            ],
            "text/plain": [
              "           Unnamed: 0      tag1      tag2       tag3  ...  month  weekday  hour  day\n",
              "0 2016-08-18 00:00:00  15.78042  0.003691  14.088605  ...      8        3     0   18\n",
              "1 2016-08-18 00:01:00  15.80157  0.003691  14.088605  ...      8        3     0   18\n",
              "\n",
              "[2 rows x 81 columns]"
            ]
          },
          "metadata": {
            "tags": []
          },
          "execution_count": 6
        }
      ]
    },
    {
      "cell_type": "markdown",
      "metadata": {
        "id": "801cYpGaz3bB"
      },
      "source": [
        "Разбивка фичей на категории"
      ]
    },
    {
      "cell_type": "code",
      "metadata": {
        "id": "-t01M3xlGOL-"
      },
      "source": [
        "numerical_features, categorical_features, datetime_features = split_features(data)"
      ],
      "execution_count": null,
      "outputs": []
    },
    {
      "cell_type": "code",
      "metadata": {
        "colab": {
          "base_uri": "https://localhost:8080/",
          "height": 224
        },
        "id": "FglqRk2rGOHR",
        "outputId": "9dc150cd-dba8-41fb-c310-4210b8e73fcf"
      },
      "source": [
        "data[numerical_features][:5]"
      ],
      "execution_count": null,
      "outputs": [
        {
          "output_type": "execute_result",
          "data": {
            "text/html": [
              "<div>\n",
              "<style scoped>\n",
              "    .dataframe tbody tr th:only-of-type {\n",
              "        vertical-align: middle;\n",
              "    }\n",
              "\n",
              "    .dataframe tbody tr th {\n",
              "        vertical-align: top;\n",
              "    }\n",
              "\n",
              "    .dataframe thead th {\n",
              "        text-align: right;\n",
              "    }\n",
              "</style>\n",
              "<table border=\"1\" class=\"dataframe\">\n",
              "  <thead>\n",
              "    <tr style=\"text-align: right;\">\n",
              "      <th></th>\n",
              "      <th>tag53</th>\n",
              "      <th>tag22</th>\n",
              "      <th>tag21</th>\n",
              "      <th>tag7</th>\n",
              "      <th>tag46</th>\n",
              "      <th>tag49</th>\n",
              "      <th>tag52</th>\n",
              "      <th>tag33</th>\n",
              "      <th>tag45</th>\n",
              "      <th>tag20</th>\n",
              "      <th>tag44</th>\n",
              "      <th>tag59</th>\n",
              "      <th>hour</th>\n",
              "      <th>tag18</th>\n",
              "      <th>tag69</th>\n",
              "      <th>tag62</th>\n",
              "      <th>tag26</th>\n",
              "      <th>tag2</th>\n",
              "      <th>tag24</th>\n",
              "      <th>tag32</th>\n",
              "      <th>tag31</th>\n",
              "      <th>weekday</th>\n",
              "      <th>tag63</th>\n",
              "      <th>tag48</th>\n",
              "      <th>tag5</th>\n",
              "      <th>tag34</th>\n",
              "      <th>tag71</th>\n",
              "      <th>tag51</th>\n",
              "      <th>tag73</th>\n",
              "      <th>tag68</th>\n",
              "      <th>tag77</th>\n",
              "      <th>month</th>\n",
              "      <th>tag43</th>\n",
              "      <th>tag1</th>\n",
              "      <th>tag15</th>\n",
              "      <th>tag60</th>\n",
              "      <th>tag65</th>\n",
              "      <th>tag64</th>\n",
              "      <th>tag38</th>\n",
              "      <th>tag10</th>\n",
              "      <th>tag75</th>\n",
              "      <th>tag79</th>\n",
              "      <th>tag56</th>\n",
              "      <th>tag70</th>\n",
              "      <th>tag19</th>\n",
              "      <th>tag74</th>\n",
              "      <th>tag8</th>\n",
              "      <th>tag57</th>\n",
              "      <th>tag66</th>\n",
              "      <th>tag11</th>\n",
              "      <th>day</th>\n",
              "      <th>tag14</th>\n",
              "      <th>tag35</th>\n",
              "      <th>tag58</th>\n",
              "      <th>tag37</th>\n",
              "      <th>tag17</th>\n",
              "      <th>tag67</th>\n",
              "      <th>tag27</th>\n",
              "      <th>tag25</th>\n",
              "      <th>tag13</th>\n",
              "      <th>tag39</th>\n",
              "      <th>tag76</th>\n",
              "      <th>tag23</th>\n",
              "      <th>tag29</th>\n",
              "      <th>tag55</th>\n",
              "      <th>tag30</th>\n",
              "      <th>tag16</th>\n",
              "      <th>tag12</th>\n",
              "      <th>tag3</th>\n",
              "      <th>tag61</th>\n",
              "      <th>year</th>\n",
              "      <th>tag42</th>\n",
              "      <th>tag72</th>\n",
              "      <th>tag78</th>\n",
              "      <th>tag54</th>\n",
              "      <th>tag50</th>\n",
              "      <th>tag28</th>\n",
              "      <th>tag40</th>\n",
              "      <th>tag47</th>\n",
              "      <th>tag36</th>\n",
              "    </tr>\n",
              "  </thead>\n",
              "  <tbody>\n",
              "    <tr>\n",
              "      <th>0</th>\n",
              "      <td>46.30415</td>\n",
              "      <td>15.60123</td>\n",
              "      <td>22.33068</td>\n",
              "      <td>47.29479</td>\n",
              "      <td>0.0</td>\n",
              "      <td>69.99840</td>\n",
              "      <td>50.50632</td>\n",
              "      <td>23.94522</td>\n",
              "      <td>1.212631</td>\n",
              "      <td>19.26714</td>\n",
              "      <td>17.53541</td>\n",
              "      <td>0.677581</td>\n",
              "      <td>0</td>\n",
              "      <td>0.000992</td>\n",
              "      <td>37.34515</td>\n",
              "      <td>2.766034</td>\n",
              "      <td>24.00339</td>\n",
              "      <td>0.003691</td>\n",
              "      <td>22.33527</td>\n",
              "      <td>23.96099</td>\n",
              "      <td>47.27997</td>\n",
              "      <td>3</td>\n",
              "      <td>2.794747</td>\n",
              "      <td>206.6534</td>\n",
              "      <td>38.39313</td>\n",
              "      <td>26.39192</td>\n",
              "      <td>50.70506</td>\n",
              "      <td>47.33277</td>\n",
              "      <td>72.76518</td>\n",
              "      <td>50.34106</td>\n",
              "      <td>73.65612</td>\n",
              "      <td>8</td>\n",
              "      <td>164.9857</td>\n",
              "      <td>15.78042</td>\n",
              "      <td>0.000671</td>\n",
              "      <td>2.775156</td>\n",
              "      <td>34.27024</td>\n",
              "      <td>33.42513</td>\n",
              "      <td>80.67747</td>\n",
              "      <td>25.30402</td>\n",
              "      <td>66.30531</td>\n",
              "      <td>56.13752</td>\n",
              "      <td>25.30402</td>\n",
              "      <td>53.65030</td>\n",
              "      <td>18.89847</td>\n",
              "      <td>53.02723</td>\n",
              "      <td>46.6553</td>\n",
              "      <td>60.01311</td>\n",
              "      <td>39.65590</td>\n",
              "      <td>60.01311</td>\n",
              "      <td>18</td>\n",
              "      <td>-0.000183</td>\n",
              "      <td>47.87158</td>\n",
              "      <td>2.373747</td>\n",
              "      <td>36.37045</td>\n",
              "      <td>0.000858</td>\n",
              "      <td>44.48986</td>\n",
              "      <td>57.06384</td>\n",
              "      <td>33.87122</td>\n",
              "      <td>0.018163</td>\n",
              "      <td>67.609850</td>\n",
              "      <td>55.10297</td>\n",
              "      <td>80.97660</td>\n",
              "      <td>23.80796</td>\n",
              "      <td>72.77773</td>\n",
              "      <td>27.63220</td>\n",
              "      <td>0.000956</td>\n",
              "      <td>-0.001269</td>\n",
              "      <td>14.088605</td>\n",
              "      <td>1.769055</td>\n",
              "      <td>2016</td>\n",
              "      <td>19.70473</td>\n",
              "      <td>61.08673</td>\n",
              "      <td>93.74996</td>\n",
              "      <td>61.20765</td>\n",
              "      <td>43.964405</td>\n",
              "      <td>44.54309</td>\n",
              "      <td>41.006095</td>\n",
              "      <td>183.3191</td>\n",
              "      <td>37.12356</td>\n",
              "    </tr>\n",
              "    <tr>\n",
              "      <th>1</th>\n",
              "      <td>46.20826</td>\n",
              "      <td>15.61021</td>\n",
              "      <td>22.35979</td>\n",
              "      <td>53.06440</td>\n",
              "      <td>0.0</td>\n",
              "      <td>69.98409</td>\n",
              "      <td>50.49541</td>\n",
              "      <td>23.93777</td>\n",
              "      <td>1.212631</td>\n",
              "      <td>19.26205</td>\n",
              "      <td>17.53541</td>\n",
              "      <td>0.677852</td>\n",
              "      <td>0</td>\n",
              "      <td>0.001003</td>\n",
              "      <td>37.34732</td>\n",
              "      <td>2.766190</td>\n",
              "      <td>23.99264</td>\n",
              "      <td>0.003691</td>\n",
              "      <td>22.33696</td>\n",
              "      <td>23.97050</td>\n",
              "      <td>47.27994</td>\n",
              "      <td>3</td>\n",
              "      <td>2.794963</td>\n",
              "      <td>205.3378</td>\n",
              "      <td>38.39313</td>\n",
              "      <td>26.40619</td>\n",
              "      <td>50.60955</td>\n",
              "      <td>47.33277</td>\n",
              "      <td>72.76947</td>\n",
              "      <td>50.31259</td>\n",
              "      <td>75.93258</td>\n",
              "      <td>8</td>\n",
              "      <td>164.1665</td>\n",
              "      <td>15.80157</td>\n",
              "      <td>0.000670</td>\n",
              "      <td>2.775152</td>\n",
              "      <td>34.25732</td>\n",
              "      <td>33.41073</td>\n",
              "      <td>80.67747</td>\n",
              "      <td>25.30464</td>\n",
              "      <td>66.30098</td>\n",
              "      <td>56.13752</td>\n",
              "      <td>25.30464</td>\n",
              "      <td>53.65897</td>\n",
              "      <td>25.31277</td>\n",
              "      <td>53.05109</td>\n",
              "      <td>46.6553</td>\n",
              "      <td>60.01566</td>\n",
              "      <td>39.70995</td>\n",
              "      <td>60.01566</td>\n",
              "      <td>18</td>\n",
              "      <td>-0.000210</td>\n",
              "      <td>47.86334</td>\n",
              "      <td>2.373543</td>\n",
              "      <td>36.26917</td>\n",
              "      <td>0.000857</td>\n",
              "      <td>44.46941</td>\n",
              "      <td>57.05022</td>\n",
              "      <td>33.89564</td>\n",
              "      <td>0.018208</td>\n",
              "      <td>59.162055</td>\n",
              "      <td>55.11534</td>\n",
              "      <td>80.98914</td>\n",
              "      <td>23.81503</td>\n",
              "      <td>72.76062</td>\n",
              "      <td>27.63496</td>\n",
              "      <td>0.000947</td>\n",
              "      <td>-0.001289</td>\n",
              "      <td>14.088605</td>\n",
              "      <td>1.769295</td>\n",
              "      <td>2016</td>\n",
              "      <td>19.77348</td>\n",
              "      <td>61.09685</td>\n",
              "      <td>93.74996</td>\n",
              "      <td>61.20348</td>\n",
              "      <td>43.964405</td>\n",
              "      <td>44.49367</td>\n",
              "      <td>41.006095</td>\n",
              "      <td>185.1547</td>\n",
              "      <td>37.09820</td>\n",
              "    </tr>\n",
              "    <tr>\n",
              "      <th>2</th>\n",
              "      <td>46.24781</td>\n",
              "      <td>15.59624</td>\n",
              "      <td>22.38500</td>\n",
              "      <td>47.29479</td>\n",
              "      <td>0.0</td>\n",
              "      <td>70.04832</td>\n",
              "      <td>50.49607</td>\n",
              "      <td>23.92040</td>\n",
              "      <td>1.212631</td>\n",
              "      <td>19.26793</td>\n",
              "      <td>17.53541</td>\n",
              "      <td>0.677734</td>\n",
              "      <td>0</td>\n",
              "      <td>0.001004</td>\n",
              "      <td>37.32831</td>\n",
              "      <td>2.766650</td>\n",
              "      <td>23.98789</td>\n",
              "      <td>0.003691</td>\n",
              "      <td>22.33768</td>\n",
              "      <td>23.96895</td>\n",
              "      <td>47.24675</td>\n",
              "      <td>3</td>\n",
              "      <td>2.795123</td>\n",
              "      <td>206.4609</td>\n",
              "      <td>38.39313</td>\n",
              "      <td>26.36558</td>\n",
              "      <td>50.60200</td>\n",
              "      <td>47.33277</td>\n",
              "      <td>72.75539</td>\n",
              "      <td>50.31557</td>\n",
              "      <td>75.93258</td>\n",
              "      <td>8</td>\n",
              "      <td>166.6839</td>\n",
              "      <td>15.68913</td>\n",
              "      <td>0.000663</td>\n",
              "      <td>2.775619</td>\n",
              "      <td>34.23959</td>\n",
              "      <td>33.41452</td>\n",
              "      <td>91.98822</td>\n",
              "      <td>25.30486</td>\n",
              "      <td>66.30359</td>\n",
              "      <td>55.07365</td>\n",
              "      <td>25.30486</td>\n",
              "      <td>53.66189</td>\n",
              "      <td>18.89847</td>\n",
              "      <td>53.06495</td>\n",
              "      <td>46.6553</td>\n",
              "      <td>60.01267</td>\n",
              "      <td>39.74942</td>\n",
              "      <td>60.01267</td>\n",
              "      <td>18</td>\n",
              "      <td>-0.000146</td>\n",
              "      <td>47.87779</td>\n",
              "      <td>2.373388</td>\n",
              "      <td>36.28939</td>\n",
              "      <td>0.000855</td>\n",
              "      <td>44.45711</td>\n",
              "      <td>57.04745</td>\n",
              "      <td>33.91651</td>\n",
              "      <td>0.018185</td>\n",
              "      <td>67.928570</td>\n",
              "      <td>55.09395</td>\n",
              "      <td>80.94573</td>\n",
              "      <td>23.81206</td>\n",
              "      <td>72.76160</td>\n",
              "      <td>27.63683</td>\n",
              "      <td>0.000957</td>\n",
              "      <td>-0.001310</td>\n",
              "      <td>14.088605</td>\n",
              "      <td>1.768982</td>\n",
              "      <td>2016</td>\n",
              "      <td>19.77574</td>\n",
              "      <td>61.05627</td>\n",
              "      <td>93.74996</td>\n",
              "      <td>61.20309</td>\n",
              "      <td>43.964405</td>\n",
              "      <td>44.52599</td>\n",
              "      <td>41.006095</td>\n",
              "      <td>185.7857</td>\n",
              "      <td>37.10657</td>\n",
              "    </tr>\n",
              "    <tr>\n",
              "      <th>3</th>\n",
              "      <td>46.13975</td>\n",
              "      <td>15.60701</td>\n",
              "      <td>22.34216</td>\n",
              "      <td>52.95166</td>\n",
              "      <td>0.0</td>\n",
              "      <td>69.95206</td>\n",
              "      <td>50.51320</td>\n",
              "      <td>23.91153</td>\n",
              "      <td>1.212631</td>\n",
              "      <td>19.24153</td>\n",
              "      <td>17.53541</td>\n",
              "      <td>0.678970</td>\n",
              "      <td>0</td>\n",
              "      <td>0.001003</td>\n",
              "      <td>37.30737</td>\n",
              "      <td>2.766515</td>\n",
              "      <td>23.98795</td>\n",
              "      <td>0.003691</td>\n",
              "      <td>22.33434</td>\n",
              "      <td>23.94341</td>\n",
              "      <td>47.26019</td>\n",
              "      <td>3</td>\n",
              "      <td>2.795122</td>\n",
              "      <td>207.5279</td>\n",
              "      <td>38.39313</td>\n",
              "      <td>26.39959</td>\n",
              "      <td>50.68343</td>\n",
              "      <td>47.33277</td>\n",
              "      <td>72.77387</td>\n",
              "      <td>50.28574</td>\n",
              "      <td>75.93258</td>\n",
              "      <td>8</td>\n",
              "      <td>163.1378</td>\n",
              "      <td>15.75101</td>\n",
              "      <td>0.000672</td>\n",
              "      <td>2.775364</td>\n",
              "      <td>34.23381</td>\n",
              "      <td>33.40705</td>\n",
              "      <td>80.67747</td>\n",
              "      <td>25.30544</td>\n",
              "      <td>66.28421</td>\n",
              "      <td>56.13752</td>\n",
              "      <td>25.30544</td>\n",
              "      <td>53.67104</td>\n",
              "      <td>18.89847</td>\n",
              "      <td>53.06760</td>\n",
              "      <td>46.6553</td>\n",
              "      <td>60.01596</td>\n",
              "      <td>39.79846</td>\n",
              "      <td>60.01596</td>\n",
              "      <td>18</td>\n",
              "      <td>-0.000192</td>\n",
              "      <td>47.91307</td>\n",
              "      <td>2.385501</td>\n",
              "      <td>36.27222</td>\n",
              "      <td>0.000864</td>\n",
              "      <td>44.47630</td>\n",
              "      <td>57.05103</td>\n",
              "      <td>33.98246</td>\n",
              "      <td>0.018180</td>\n",
              "      <td>59.162055</td>\n",
              "      <td>55.12513</td>\n",
              "      <td>80.93867</td>\n",
              "      <td>23.80859</td>\n",
              "      <td>72.77470</td>\n",
              "      <td>27.62737</td>\n",
              "      <td>0.000949</td>\n",
              "      <td>-0.000885</td>\n",
              "      <td>20.262090</td>\n",
              "      <td>1.769024</td>\n",
              "      <td>2016</td>\n",
              "      <td>19.80556</td>\n",
              "      <td>61.00186</td>\n",
              "      <td>92.46913</td>\n",
              "      <td>61.28067</td>\n",
              "      <td>37.132960</td>\n",
              "      <td>44.51584</td>\n",
              "      <td>37.184700</td>\n",
              "      <td>182.6789</td>\n",
              "      <td>37.14546</td>\n",
              "    </tr>\n",
              "    <tr>\n",
              "      <th>4</th>\n",
              "      <td>46.33209</td>\n",
              "      <td>15.60543</td>\n",
              "      <td>22.33690</td>\n",
              "      <td>47.29479</td>\n",
              "      <td>0.0</td>\n",
              "      <td>69.99007</td>\n",
              "      <td>50.50373</td>\n",
              "      <td>23.90270</td>\n",
              "      <td>1.212631</td>\n",
              "      <td>19.25176</td>\n",
              "      <td>17.53541</td>\n",
              "      <td>0.678937</td>\n",
              "      <td>0</td>\n",
              "      <td>0.001013</td>\n",
              "      <td>37.30698</td>\n",
              "      <td>2.766815</td>\n",
              "      <td>23.98389</td>\n",
              "      <td>0.003691</td>\n",
              "      <td>22.33530</td>\n",
              "      <td>23.93508</td>\n",
              "      <td>47.20809</td>\n",
              "      <td>3</td>\n",
              "      <td>2.795541</td>\n",
              "      <td>248.1153</td>\n",
              "      <td>38.39313</td>\n",
              "      <td>26.37914</td>\n",
              "      <td>50.64983</td>\n",
              "      <td>47.33277</td>\n",
              "      <td>72.72121</td>\n",
              "      <td>50.23417</td>\n",
              "      <td>73.67016</td>\n",
              "      <td>8</td>\n",
              "      <td>166.8106</td>\n",
              "      <td>15.57773</td>\n",
              "      <td>0.000678</td>\n",
              "      <td>2.775762</td>\n",
              "      <td>34.22705</td>\n",
              "      <td>33.37688</td>\n",
              "      <td>80.67747</td>\n",
              "      <td>25.30540</td>\n",
              "      <td>66.26472</td>\n",
              "      <td>56.13752</td>\n",
              "      <td>25.30540</td>\n",
              "      <td>53.58812</td>\n",
              "      <td>18.89847</td>\n",
              "      <td>53.09679</td>\n",
              "      <td>46.6553</td>\n",
              "      <td>60.01478</td>\n",
              "      <td>39.81411</td>\n",
              "      <td>60.01478</td>\n",
              "      <td>18</td>\n",
              "      <td>-0.000113</td>\n",
              "      <td>47.93106</td>\n",
              "      <td>2.385056</td>\n",
              "      <td>36.26667</td>\n",
              "      <td>0.000865</td>\n",
              "      <td>44.48069</td>\n",
              "      <td>57.05997</td>\n",
              "      <td>34.05027</td>\n",
              "      <td>0.018167</td>\n",
              "      <td>59.162055</td>\n",
              "      <td>55.15526</td>\n",
              "      <td>80.97723</td>\n",
              "      <td>23.76636</td>\n",
              "      <td>72.72731</td>\n",
              "      <td>27.64237</td>\n",
              "      <td>0.000955</td>\n",
              "      <td>-0.001005</td>\n",
              "      <td>14.088605</td>\n",
              "      <td>1.769598</td>\n",
              "      <td>2016</td>\n",
              "      <td>19.79632</td>\n",
              "      <td>61.04366</td>\n",
              "      <td>93.74996</td>\n",
              "      <td>61.28010</td>\n",
              "      <td>43.964405</td>\n",
              "      <td>44.51775</td>\n",
              "      <td>41.006095</td>\n",
              "      <td>186.6251</td>\n",
              "      <td>37.13568</td>\n",
              "    </tr>\n",
              "  </tbody>\n",
              "</table>\n",
              "</div>"
            ],
            "text/plain": [
              "      tag53     tag22     tag21  ...      tag40     tag47     tag36\n",
              "0  46.30415  15.60123  22.33068  ...  41.006095  183.3191  37.12356\n",
              "1  46.20826  15.61021  22.35979  ...  41.006095  185.1547  37.09820\n",
              "2  46.24781  15.59624  22.38500  ...  41.006095  185.7857  37.10657\n",
              "3  46.13975  15.60701  22.34216  ...  37.184700  182.6789  37.14546\n",
              "4  46.33209  15.60543  22.33690  ...  41.006095  186.6251  37.13568\n",
              "\n",
              "[5 rows x 80 columns]"
            ]
          },
          "metadata": {
            "tags": []
          },
          "execution_count": 8
        }
      ]
    },
    {
      "cell_type": "code",
      "metadata": {
        "id": "BcIS4qEvGOCx"
      },
      "source": [
        "data[numerical_features] = data[numerical_features].astype(float)"
      ],
      "execution_count": null,
      "outputs": []
    },
    {
      "cell_type": "code",
      "metadata": {
        "id": "Yb13Rf3H0vUj"
      },
      "source": [
        ""
      ],
      "execution_count": null,
      "outputs": []
    },
    {
      "cell_type": "markdown",
      "metadata": {
        "id": "Z90h8YAL08R2"
      },
      "source": [
        "Возвращаем разбивку на train и test в исходное состояние"
      ]
    },
    {
      "cell_type": "code",
      "metadata": {
        "colab": {
          "base_uri": "https://localhost:8080/"
        },
        "id": "z2rJ9_KsGN-G",
        "outputId": "d483f2ab-f1b8-48c3-df59-0646d0aeb863"
      },
      "source": [
        "df_train, df_test = data[numerical_features].loc[:199999], data[numerical_features].loc[200000:]\n",
        "df_train.shape, df_test.shape"
      ],
      "execution_count": null,
      "outputs": [
        {
          "output_type": "execute_result",
          "data": {
            "text/plain": [
              "((200000, 80), (100000, 80))"
            ]
          },
          "metadata": {
            "tags": []
          },
          "execution_count": 10
        }
      ]
    },
    {
      "cell_type": "code",
      "metadata": {
        "colab": {
          "base_uri": "https://localhost:8080/"
        },
        "id": "PehXPFf5Zwvd",
        "outputId": "560b5224-7c57-40d7-e46a-04bd317d9d67"
      },
      "source": [
        "id_train, id_test = data[\"Unnamed: 0\"].loc[:199999], data[\"Unnamed: 0\"].loc[200000:]\n",
        "id_train.shape, id_test.shape"
      ],
      "execution_count": null,
      "outputs": [
        {
          "output_type": "execute_result",
          "data": {
            "text/plain": [
              "((200000,), (100000,))"
            ]
          },
          "metadata": {
            "tags": []
          },
          "execution_count": 11
        }
      ]
    },
    {
      "cell_type": "markdown",
      "metadata": {
        "id": "MPKQKw_31If7"
      },
      "source": [
        "Инициализация модели XGBoost"
      ]
    },
    {
      "cell_type": "code",
      "metadata": {
        "id": "7G1VYpsrGN5r"
      },
      "source": [
        "model_xgbr = xgb.XGBRegressor(base_score=0.5, booster='gbtree', colsample_bylevel=1,\n",
        "       colsample_bynode=1, colsample_bytree=1, gamma=0,\n",
        "       importance_type='gain', learning_rate=0.1, max_delta_step=0,\n",
        "       max_depth=3, min_child_weight=1, missing=None, n_estimators=100,\n",
        "       n_jobs=1, nthread=None, objective='reg:squarederror', random_state=0,\n",
        "       reg_alpha=0, reg_lambda=1, scale_pos_weight=1, seed=None,\n",
        "       silent=None, subsample=1, verbosity=1)"
      ],
      "execution_count": null,
      "outputs": []
    },
    {
      "cell_type": "code",
      "metadata": {
        "colab": {
          "base_uri": "https://localhost:8080/"
        },
        "id": "l-SSDFkbdS9f",
        "outputId": "0d78dc77-b40d-44df-d8c9-f60fbe9fc9ec"
      },
      "source": [
        "\n",
        "y_test1, model1 = predict_target(df_train, df_test, y1)"
      ],
      "execution_count": null,
      "outputs": [
        {
          "output_type": "stream",
          "text": [
            "[19:16:15] WARNING: /workspace/src/objective/regression_obj.cu:152: reg:linear is now deprecated in favor of reg:squarederror.\n",
            "[19:17:14] WARNING: /workspace/src/objective/regression_obj.cu:152: reg:linear is now deprecated in favor of reg:squarederror.\n",
            "[19:18:13] WARNING: /workspace/src/objective/regression_obj.cu:152: reg:linear is now deprecated in favor of reg:squarederror.\n",
            "[19:19:12] WARNING: /workspace/src/objective/regression_obj.cu:152: reg:linear is now deprecated in favor of reg:squarederror.\n",
            "[19:20:11] WARNING: /workspace/src/objective/regression_obj.cu:152: reg:linear is now deprecated in favor of reg:squarederror.\n",
            "[19:21:10] WARNING: /workspace/src/objective/regression_obj.cu:152: reg:linear is now deprecated in favor of reg:squarederror.\n",
            "[19:22:44] WARNING: /workspace/src/objective/regression_obj.cu:152: reg:linear is now deprecated in favor of reg:squarederror.\n",
            "[19:24:17] WARNING: /workspace/src/objective/regression_obj.cu:152: reg:linear is now deprecated in favor of reg:squarederror.\n",
            "[19:25:50] WARNING: /workspace/src/objective/regression_obj.cu:152: reg:linear is now deprecated in favor of reg:squarederror.\n",
            "[19:27:23] WARNING: /workspace/src/objective/regression_obj.cu:152: reg:linear is now deprecated in favor of reg:squarederror.\n",
            "[19:28:56] WARNING: /workspace/src/objective/regression_obj.cu:152: reg:linear is now deprecated in favor of reg:squarederror.\n",
            "[19:29:56] WARNING: /workspace/src/objective/regression_obj.cu:152: reg:linear is now deprecated in favor of reg:squarederror.\n",
            "[19:30:56] WARNING: /workspace/src/objective/regression_obj.cu:152: reg:linear is now deprecated in favor of reg:squarederror.\n",
            "[19:31:55] WARNING: /workspace/src/objective/regression_obj.cu:152: reg:linear is now deprecated in favor of reg:squarederror.\n",
            "[19:32:54] WARNING: /workspace/src/objective/regression_obj.cu:152: reg:linear is now deprecated in favor of reg:squarederror.\n",
            "[19:33:53] WARNING: /workspace/src/objective/regression_obj.cu:152: reg:linear is now deprecated in favor of reg:squarederror.\n",
            "[19:35:27] WARNING: /workspace/src/objective/regression_obj.cu:152: reg:linear is now deprecated in favor of reg:squarederror.\n",
            "[19:36:59] WARNING: /workspace/src/objective/regression_obj.cu:152: reg:linear is now deprecated in favor of reg:squarederror.\n",
            "[19:38:32] WARNING: /workspace/src/objective/regression_obj.cu:152: reg:linear is now deprecated in favor of reg:squarederror.\n",
            "[19:40:05] WARNING: /workspace/src/objective/regression_obj.cu:152: reg:linear is now deprecated in favor of reg:squarederror.\n",
            "[19:41:38] WARNING: /workspace/src/objective/regression_obj.cu:152: reg:linear is now deprecated in favor of reg:squarederror.\n",
            "[19:42:48] WARNING: /workspace/src/objective/regression_obj.cu:152: reg:linear is now deprecated in favor of reg:squarederror.\n",
            "[19:43:58] WARNING: /workspace/src/objective/regression_obj.cu:152: reg:linear is now deprecated in favor of reg:squarederror.\n",
            "[19:45:09] WARNING: /workspace/src/objective/regression_obj.cu:152: reg:linear is now deprecated in favor of reg:squarederror.\n",
            "[19:46:19] WARNING: /workspace/src/objective/regression_obj.cu:152: reg:linear is now deprecated in favor of reg:squarederror.\n",
            "[19:47:30] WARNING: /workspace/src/objective/regression_obj.cu:152: reg:linear is now deprecated in favor of reg:squarederror.\n",
            "[19:49:14] WARNING: /workspace/src/objective/regression_obj.cu:152: reg:linear is now deprecated in favor of reg:squarederror.\n",
            "[19:50:57] WARNING: /workspace/src/objective/regression_obj.cu:152: reg:linear is now deprecated in favor of reg:squarederror.\n",
            "[19:52:42] WARNING: /workspace/src/objective/regression_obj.cu:152: reg:linear is now deprecated in favor of reg:squarederror.\n",
            "[19:54:25] WARNING: /workspace/src/objective/regression_obj.cu:152: reg:linear is now deprecated in favor of reg:squarederror.\n",
            "[19:56:10] WARNING: /workspace/src/objective/regression_obj.cu:152: reg:linear is now deprecated in favor of reg:squarederror.\n",
            "[19:57:19] WARNING: /workspace/src/objective/regression_obj.cu:152: reg:linear is now deprecated in favor of reg:squarederror.\n",
            "[19:58:29] WARNING: /workspace/src/objective/regression_obj.cu:152: reg:linear is now deprecated in favor of reg:squarederror.\n",
            "[19:59:40] WARNING: /workspace/src/objective/regression_obj.cu:152: reg:linear is now deprecated in favor of reg:squarederror.\n",
            "[20:00:49] WARNING: /workspace/src/objective/regression_obj.cu:152: reg:linear is now deprecated in favor of reg:squarederror.\n",
            "[20:02:01] WARNING: /workspace/src/objective/regression_obj.cu:152: reg:linear is now deprecated in favor of reg:squarederror.\n",
            "[20:03:45] WARNING: /workspace/src/objective/regression_obj.cu:152: reg:linear is now deprecated in favor of reg:squarederror.\n",
            "[20:05:28] WARNING: /workspace/src/objective/regression_obj.cu:152: reg:linear is now deprecated in favor of reg:squarederror.\n",
            "[20:07:13] WARNING: /workspace/src/objective/regression_obj.cu:152: reg:linear is now deprecated in favor of reg:squarederror.\n",
            "[20:08:56] WARNING: /workspace/src/objective/regression_obj.cu:152: reg:linear is now deprecated in favor of reg:squarederror.\n",
            "[20:10:40] WARNING: /workspace/src/objective/regression_obj.cu:152: reg:linear is now deprecated in favor of reg:squarederror.\n",
            "0.8891257888259376\n"
          ],
          "name": "stdout"
        }
      ]
    },
    {
      "cell_type": "code",
      "metadata": {
        "id": "vBscj-tpGNWD",
        "colab": {
          "base_uri": "https://localhost:8080/"
        },
        "outputId": "e17049c6-7082-4b15-8201-df843a04764a"
      },
      "source": [
        "# Сохранение предсказаний в файл\n",
        "\n",
        "y_test1, model1 = predict_target(df_train, df_test, y1)\n",
        "y_test2, model2 = predict_target(df_train, df_test, y2)\n",
        "y_test3, model3 = predict_target(df_train, df_test, y3)\n",
        "y_test4, model4 = predict_target(df_train, df_test, y4)\n",
        "\n",
        "y_preds = pd.DataFrame({\n",
        "    \"Unnamed: 0\": id_test,\n",
        "    \"target1\": y_test1,\n",
        "    \"target2\": y_test2,\n",
        "    \"target3\": y_test3,\n",
        "    \"target4\": y_test4,\n",
        "    })\n",
        "\n",
        "y_preds.to_csv(\"chem_tech_ai.csv\", index=False)"
      ],
      "execution_count": null,
      "outputs": [
        {
          "output_type": "stream",
          "text": [
            "[20:12:11] WARNING: /workspace/src/objective/regression_obj.cu:152: reg:linear is now deprecated in favor of reg:squarederror.\n",
            "[20:13:44] WARNING: /workspace/src/objective/regression_obj.cu:152: reg:linear is now deprecated in favor of reg:squarederror.\n",
            "[20:15:15] WARNING: /workspace/src/objective/regression_obj.cu:152: reg:linear is now deprecated in favor of reg:squarederror.\n",
            "[20:16:46] WARNING: /workspace/src/objective/regression_obj.cu:152: reg:linear is now deprecated in favor of reg:squarederror.\n",
            "[20:18:17] WARNING: /workspace/src/objective/regression_obj.cu:152: reg:linear is now deprecated in favor of reg:squarederror.\n",
            "[20:19:48] WARNING: /workspace/src/objective/regression_obj.cu:152: reg:linear is now deprecated in favor of reg:squarederror.\n",
            "[20:22:51] WARNING: /workspace/src/objective/regression_obj.cu:152: reg:linear is now deprecated in favor of reg:squarederror.\n",
            "[20:25:56] WARNING: /workspace/src/objective/regression_obj.cu:152: reg:linear is now deprecated in favor of reg:squarederror.\n",
            "[20:29:00] WARNING: /workspace/src/objective/regression_obj.cu:152: reg:linear is now deprecated in favor of reg:squarederror.\n",
            "[20:32:03] WARNING: /workspace/src/objective/regression_obj.cu:152: reg:linear is now deprecated in favor of reg:squarederror.\n",
            "[20:35:06] WARNING: /workspace/src/objective/regression_obj.cu:152: reg:linear is now deprecated in favor of reg:squarederror.\n",
            "[20:36:37] WARNING: /workspace/src/objective/regression_obj.cu:152: reg:linear is now deprecated in favor of reg:squarederror.\n",
            "[20:38:11] WARNING: /workspace/src/objective/regression_obj.cu:152: reg:linear is now deprecated in favor of reg:squarederror.\n",
            "[20:39:42] WARNING: /workspace/src/objective/regression_obj.cu:152: reg:linear is now deprecated in favor of reg:squarederror.\n",
            "[20:41:13] WARNING: /workspace/src/objective/regression_obj.cu:152: reg:linear is now deprecated in favor of reg:squarederror.\n",
            "[20:42:44] WARNING: /workspace/src/objective/regression_obj.cu:152: reg:linear is now deprecated in favor of reg:squarederror.\n",
            "[20:45:47] WARNING: /workspace/src/objective/regression_obj.cu:152: reg:linear is now deprecated in favor of reg:squarederror.\n",
            "[20:48:51] WARNING: /workspace/src/objective/regression_obj.cu:152: reg:linear is now deprecated in favor of reg:squarederror.\n",
            "[20:51:54] WARNING: /workspace/src/objective/regression_obj.cu:152: reg:linear is now deprecated in favor of reg:squarederror.\n",
            "[20:54:57] WARNING: /workspace/src/objective/regression_obj.cu:152: reg:linear is now deprecated in favor of reg:squarederror.\n",
            "[20:58:00] WARNING: /workspace/src/objective/regression_obj.cu:152: reg:linear is now deprecated in favor of reg:squarederror.\n",
            "[21:01:37] WARNING: /workspace/src/objective/regression_obj.cu:152: reg:linear is now deprecated in favor of reg:squarederror.\n",
            "[21:05:13] WARNING: /workspace/src/objective/regression_obj.cu:152: reg:linear is now deprecated in favor of reg:squarederror.\n",
            "[21:08:49] WARNING: /workspace/src/objective/regression_obj.cu:152: reg:linear is now deprecated in favor of reg:squarederror.\n",
            "[21:12:24] WARNING: /workspace/src/objective/regression_obj.cu:152: reg:linear is now deprecated in favor of reg:squarederror.\n",
            "[21:16:00] WARNING: /workspace/src/objective/regression_obj.cu:152: reg:linear is now deprecated in favor of reg:squarederror.\n",
            "[21:23:23] WARNING: /workspace/src/objective/regression_obj.cu:152: reg:linear is now deprecated in favor of reg:squarederror.\n",
            "[21:30:44] WARNING: /workspace/src/objective/regression_obj.cu:152: reg:linear is now deprecated in favor of reg:squarederror.\n",
            "[21:38:07] WARNING: /workspace/src/objective/regression_obj.cu:152: reg:linear is now deprecated in favor of reg:squarederror.\n",
            "[21:45:31] WARNING: /workspace/src/objective/regression_obj.cu:152: reg:linear is now deprecated in favor of reg:squarederror.\n",
            "[21:52:51] WARNING: /workspace/src/objective/regression_obj.cu:152: reg:linear is now deprecated in favor of reg:squarederror.\n",
            "[21:56:27] WARNING: /workspace/src/objective/regression_obj.cu:152: reg:linear is now deprecated in favor of reg:squarederror.\n",
            "[22:00:02] WARNING: /workspace/src/objective/regression_obj.cu:152: reg:linear is now deprecated in favor of reg:squarederror.\n",
            "[22:03:40] WARNING: /workspace/src/objective/regression_obj.cu:152: reg:linear is now deprecated in favor of reg:squarederror.\n",
            "[22:07:16] WARNING: /workspace/src/objective/regression_obj.cu:152: reg:linear is now deprecated in favor of reg:squarederror.\n",
            "[22:10:51] WARNING: /workspace/src/objective/regression_obj.cu:152: reg:linear is now deprecated in favor of reg:squarederror.\n",
            "[22:18:13] WARNING: /workspace/src/objective/regression_obj.cu:152: reg:linear is now deprecated in favor of reg:squarederror.\n",
            "[22:25:43] WARNING: /workspace/src/objective/regression_obj.cu:152: reg:linear is now deprecated in favor of reg:squarederror.\n",
            "[22:33:09] WARNING: /workspace/src/objective/regression_obj.cu:152: reg:linear is now deprecated in favor of reg:squarederror.\n",
            "[22:40:31] WARNING: /workspace/src/objective/regression_obj.cu:152: reg:linear is now deprecated in favor of reg:squarederror.\n",
            "[22:47:52] WARNING: /workspace/src/objective/regression_obj.cu:152: reg:linear is now deprecated in favor of reg:squarederror.\n",
            "0.9866341217238402\n",
            "[22:57:16] WARNING: /workspace/src/objective/regression_obj.cu:152: reg:linear is now deprecated in favor of reg:squarederror.\n",
            "[22:58:50] WARNING: /workspace/src/objective/regression_obj.cu:152: reg:linear is now deprecated in favor of reg:squarederror.\n",
            "[23:00:23] WARNING: /workspace/src/objective/regression_obj.cu:152: reg:linear is now deprecated in favor of reg:squarederror.\n",
            "[23:01:57] WARNING: /workspace/src/objective/regression_obj.cu:152: reg:linear is now deprecated in favor of reg:squarederror.\n",
            "[23:03:30] WARNING: /workspace/src/objective/regression_obj.cu:152: reg:linear is now deprecated in favor of reg:squarederror.\n",
            "[23:05:04] WARNING: /workspace/src/objective/regression_obj.cu:152: reg:linear is now deprecated in favor of reg:squarederror.\n",
            "[23:08:09] WARNING: /workspace/src/objective/regression_obj.cu:152: reg:linear is now deprecated in favor of reg:squarederror.\n",
            "[23:11:13] WARNING: /workspace/src/objective/regression_obj.cu:152: reg:linear is now deprecated in favor of reg:squarederror.\n",
            "[23:14:18] WARNING: /workspace/src/objective/regression_obj.cu:152: reg:linear is now deprecated in favor of reg:squarederror.\n",
            "[23:17:23] WARNING: /workspace/src/objective/regression_obj.cu:152: reg:linear is now deprecated in favor of reg:squarederror.\n",
            "[23:20:28] WARNING: /workspace/src/objective/regression_obj.cu:152: reg:linear is now deprecated in favor of reg:squarederror.\n",
            "[23:22:00] WARNING: /workspace/src/objective/regression_obj.cu:152: reg:linear is now deprecated in favor of reg:squarederror.\n",
            "[23:23:33] WARNING: /workspace/src/objective/regression_obj.cu:152: reg:linear is now deprecated in favor of reg:squarederror.\n",
            "[23:25:07] WARNING: /workspace/src/objective/regression_obj.cu:152: reg:linear is now deprecated in favor of reg:squarederror.\n",
            "[23:26:40] WARNING: /workspace/src/objective/regression_obj.cu:152: reg:linear is now deprecated in favor of reg:squarederror.\n",
            "[23:28:13] WARNING: /workspace/src/objective/regression_obj.cu:152: reg:linear is now deprecated in favor of reg:squarederror.\n",
            "[23:31:17] WARNING: /workspace/src/objective/regression_obj.cu:152: reg:linear is now deprecated in favor of reg:squarederror.\n",
            "[23:34:22] WARNING: /workspace/src/objective/regression_obj.cu:152: reg:linear is now deprecated in favor of reg:squarederror.\n",
            "[23:37:26] WARNING: /workspace/src/objective/regression_obj.cu:152: reg:linear is now deprecated in favor of reg:squarederror.\n",
            "[23:40:32] WARNING: /workspace/src/objective/regression_obj.cu:152: reg:linear is now deprecated in favor of reg:squarederror.\n",
            "[23:43:37] WARNING: /workspace/src/objective/regression_obj.cu:152: reg:linear is now deprecated in favor of reg:squarederror.\n",
            "[23:47:16] WARNING: /workspace/src/objective/regression_obj.cu:152: reg:linear is now deprecated in favor of reg:squarederror.\n",
            "[23:50:56] WARNING: /workspace/src/objective/regression_obj.cu:152: reg:linear is now deprecated in favor of reg:squarederror.\n",
            "[23:54:38] WARNING: /workspace/src/objective/regression_obj.cu:152: reg:linear is now deprecated in favor of reg:squarederror.\n",
            "[23:58:18] WARNING: /workspace/src/objective/regression_obj.cu:152: reg:linear is now deprecated in favor of reg:squarederror.\n",
            "[00:01:58] WARNING: /workspace/src/objective/regression_obj.cu:152: reg:linear is now deprecated in favor of reg:squarederror.\n",
            "[00:09:23] WARNING: /workspace/src/objective/regression_obj.cu:152: reg:linear is now deprecated in favor of reg:squarederror.\n",
            "[00:16:48] WARNING: /workspace/src/objective/regression_obj.cu:152: reg:linear is now deprecated in favor of reg:squarederror.\n",
            "[00:24:10] WARNING: /workspace/src/objective/regression_obj.cu:152: reg:linear is now deprecated in favor of reg:squarederror.\n",
            "[00:31:34] WARNING: /workspace/src/objective/regression_obj.cu:152: reg:linear is now deprecated in favor of reg:squarederror.\n",
            "[00:39:00] WARNING: /workspace/src/objective/regression_obj.cu:152: reg:linear is now deprecated in favor of reg:squarederror.\n",
            "[00:42:40] WARNING: /workspace/src/objective/regression_obj.cu:152: reg:linear is now deprecated in favor of reg:squarederror.\n",
            "[00:46:19] WARNING: /workspace/src/objective/regression_obj.cu:152: reg:linear is now deprecated in favor of reg:squarederror.\n",
            "[00:50:00] WARNING: /workspace/src/objective/regression_obj.cu:152: reg:linear is now deprecated in favor of reg:squarederror.\n",
            "[00:53:41] WARNING: /workspace/src/objective/regression_obj.cu:152: reg:linear is now deprecated in favor of reg:squarederror.\n",
            "[00:57:21] WARNING: /workspace/src/objective/regression_obj.cu:152: reg:linear is now deprecated in favor of reg:squarederror.\n",
            "[01:04:44] WARNING: /workspace/src/objective/regression_obj.cu:152: reg:linear is now deprecated in favor of reg:squarederror.\n",
            "[01:12:04] WARNING: /workspace/src/objective/regression_obj.cu:152: reg:linear is now deprecated in favor of reg:squarederror.\n",
            "[01:19:26] WARNING: /workspace/src/objective/regression_obj.cu:152: reg:linear is now deprecated in favor of reg:squarederror.\n",
            "[01:26:52] WARNING: /workspace/src/objective/regression_obj.cu:152: reg:linear is now deprecated in favor of reg:squarederror.\n",
            "[01:34:13] WARNING: /workspace/src/objective/regression_obj.cu:152: reg:linear is now deprecated in favor of reg:squarederror.\n",
            "0.9872793397764674\n",
            "[01:43:35] WARNING: /workspace/src/objective/regression_obj.cu:152: reg:linear is now deprecated in favor of reg:squarederror.\n",
            "[01:44:55] WARNING: /workspace/src/objective/regression_obj.cu:152: reg:linear is now deprecated in favor of reg:squarederror.\n",
            "[01:46:17] WARNING: /workspace/src/objective/regression_obj.cu:152: reg:linear is now deprecated in favor of reg:squarederror.\n",
            "[01:47:39] WARNING: /workspace/src/objective/regression_obj.cu:152: reg:linear is now deprecated in favor of reg:squarederror.\n",
            "[01:49:01] WARNING: /workspace/src/objective/regression_obj.cu:152: reg:linear is now deprecated in favor of reg:squarederror.\n",
            "[01:50:21] WARNING: /workspace/src/objective/regression_obj.cu:152: reg:linear is now deprecated in favor of reg:squarederror.\n",
            "[01:52:15] WARNING: /workspace/src/objective/regression_obj.cu:152: reg:linear is now deprecated in favor of reg:squarederror.\n",
            "[01:54:11] WARNING: /workspace/src/objective/regression_obj.cu:152: reg:linear is now deprecated in favor of reg:squarederror.\n",
            "[01:56:07] WARNING: /workspace/src/objective/regression_obj.cu:152: reg:linear is now deprecated in favor of reg:squarederror.\n",
            "[01:58:02] WARNING: /workspace/src/objective/regression_obj.cu:152: reg:linear is now deprecated in favor of reg:squarederror.\n",
            "[01:59:55] WARNING: /workspace/src/objective/regression_obj.cu:152: reg:linear is now deprecated in favor of reg:squarederror.\n",
            "[02:01:16] WARNING: /workspace/src/objective/regression_obj.cu:152: reg:linear is now deprecated in favor of reg:squarederror.\n",
            "[02:02:38] WARNING: /workspace/src/objective/regression_obj.cu:152: reg:linear is now deprecated in favor of reg:squarederror.\n",
            "[02:04:00] WARNING: /workspace/src/objective/regression_obj.cu:152: reg:linear is now deprecated in favor of reg:squarederror.\n",
            "[02:05:24] WARNING: /workspace/src/objective/regression_obj.cu:152: reg:linear is now deprecated in favor of reg:squarederror.\n",
            "[02:06:43] WARNING: /workspace/src/objective/regression_obj.cu:152: reg:linear is now deprecated in favor of reg:squarederror.\n",
            "[02:08:37] WARNING: /workspace/src/objective/regression_obj.cu:152: reg:linear is now deprecated in favor of reg:squarederror.\n",
            "[02:10:32] WARNING: /workspace/src/objective/regression_obj.cu:152: reg:linear is now deprecated in favor of reg:squarederror.\n",
            "[02:12:28] WARNING: /workspace/src/objective/regression_obj.cu:152: reg:linear is now deprecated in favor of reg:squarederror.\n",
            "[02:14:25] WARNING: /workspace/src/objective/regression_obj.cu:152: reg:linear is now deprecated in favor of reg:squarederror.\n",
            "[02:16:18] WARNING: /workspace/src/objective/regression_obj.cu:152: reg:linear is now deprecated in favor of reg:squarederror.\n",
            "[02:17:39] WARNING: /workspace/src/objective/regression_obj.cu:152: reg:linear is now deprecated in favor of reg:squarederror.\n",
            "[02:19:03] WARNING: /workspace/src/objective/regression_obj.cu:152: reg:linear is now deprecated in favor of reg:squarederror.\n",
            "[02:20:25] WARNING: /workspace/src/objective/regression_obj.cu:152: reg:linear is now deprecated in favor of reg:squarederror.\n",
            "[02:21:48] WARNING: /workspace/src/objective/regression_obj.cu:152: reg:linear is now deprecated in favor of reg:squarederror.\n",
            "[02:23:11] WARNING: /workspace/src/objective/regression_obj.cu:152: reg:linear is now deprecated in favor of reg:squarederror.\n",
            "[02:25:07] WARNING: /workspace/src/objective/regression_obj.cu:152: reg:linear is now deprecated in favor of reg:squarederror.\n",
            "[02:27:04] WARNING: /workspace/src/objective/regression_obj.cu:152: reg:linear is now deprecated in favor of reg:squarederror.\n",
            "[02:28:59] WARNING: /workspace/src/objective/regression_obj.cu:152: reg:linear is now deprecated in favor of reg:squarederror.\n",
            "[02:30:55] WARNING: /workspace/src/objective/regression_obj.cu:152: reg:linear is now deprecated in favor of reg:squarederror.\n",
            "[02:32:51] WARNING: /workspace/src/objective/regression_obj.cu:152: reg:linear is now deprecated in favor of reg:squarederror.\n",
            "[02:34:12] WARNING: /workspace/src/objective/regression_obj.cu:152: reg:linear is now deprecated in favor of reg:squarederror.\n",
            "[02:35:36] WARNING: /workspace/src/objective/regression_obj.cu:152: reg:linear is now deprecated in favor of reg:squarederror.\n",
            "[02:36:57] WARNING: /workspace/src/objective/regression_obj.cu:152: reg:linear is now deprecated in favor of reg:squarederror.\n",
            "[02:38:19] WARNING: /workspace/src/objective/regression_obj.cu:152: reg:linear is now deprecated in favor of reg:squarederror.\n",
            "[02:39:43] WARNING: /workspace/src/objective/regression_obj.cu:152: reg:linear is now deprecated in favor of reg:squarederror.\n",
            "[02:41:38] WARNING: /workspace/src/objective/regression_obj.cu:152: reg:linear is now deprecated in favor of reg:squarederror.\n",
            "[02:43:35] WARNING: /workspace/src/objective/regression_obj.cu:152: reg:linear is now deprecated in favor of reg:squarederror.\n",
            "[02:45:30] WARNING: /workspace/src/objective/regression_obj.cu:152: reg:linear is now deprecated in favor of reg:squarederror.\n",
            "[02:47:26] WARNING: /workspace/src/objective/regression_obj.cu:152: reg:linear is now deprecated in favor of reg:squarederror.\n",
            "[02:49:22] WARNING: /workspace/src/objective/regression_obj.cu:152: reg:linear is now deprecated in favor of reg:squarederror.\n",
            "0.9963914314225243\n"
          ],
          "name": "stdout"
        }
      ]
    },
    {
      "cell_type": "code",
      "metadata": {
        "id": "KkTQc5WoO-A_"
      },
      "source": [
        "y_preds.to_csv( \"/content/drive/MyDrive/Chem_Tech_AI/chem_tech_ai_preds.csv\", index=False)"
      ],
      "execution_count": null,
      "outputs": []
    },
    {
      "cell_type": "code",
      "metadata": {
        "id": "frekVj3fGNSE",
        "colab": {
          "base_uri": "https://localhost:8080/",
          "height": 349
        },
        "outputId": "853265b8-a550-4850-ac0a-42be52b42e56"
      },
      "source": [
        "model1.fit(df_train, y1)\n",
        "xgb.plot_importance(model1, max_num_features=10)"
      ],
      "execution_count": null,
      "outputs": [
        {
          "output_type": "stream",
          "text": [
            "[02:51:11] WARNING: /workspace/src/objective/regression_obj.cu:152: reg:linear is now deprecated in favor of reg:squarederror.\n"
          ],
          "name": "stdout"
        },
        {
          "output_type": "execute_result",
          "data": {
            "text/plain": [
              "<matplotlib.axes._subplots.AxesSubplot at 0x7f4ee9645bd0>"
            ]
          },
          "metadata": {
            "tags": []
          },
          "execution_count": 31
        },
        {
          "output_type": "display_data",
          "data": {
            "image/png": "[encoded data removed]",
            "text/plain": [
              "<Figure size 432x288 with 1 Axes>"
            ]
          },
          "metadata": {
            "tags": [],
            "needs_background": "light"
          }
        }
      ]
    },
    {
      "cell_type": "code",
      "metadata": {
        "id": "K9uYIwOdGNNJ",
        "colab": {
          "base_uri": "https://localhost:8080/",
          "height": 349
        },
        "outputId": "dced55ff-d2dc-49b1-b88f-cb21994914ab"
      },
      "source": [
        "model2.fit(df_train, y2)\n",
        "xgb.plot_importance(model2, max_num_features=10)"
      ],
      "execution_count": null,
      "outputs": [
        {
          "output_type": "stream",
          "text": [
            "[02:52:04] WARNING: /workspace/src/objective/regression_obj.cu:152: reg:linear is now deprecated in favor of reg:squarederror.\n"
          ],
          "name": "stdout"
        },
        {
          "output_type": "execute_result",
          "data": {
            "text/plain": [
              "<matplotlib.axes._subplots.AxesSubplot at 0x7f4ee97c4210>"
            ]
          },
          "metadata": {
            "tags": []
          },
          "execution_count": 32
        },
        {
          "output_type": "display_data",
          "data": {
            "image/png": "[encoded data removed]",
            "text/plain": [
              "<Figure size 432x288 with 1 Axes>"
            ]
          },
          "metadata": {
            "tags": [],
            "needs_background": "light"
          }
        }
      ]
    },
    {
      "cell_type": "code",
      "metadata": {
        "id": "wisxkG95GNJO",
        "colab": {
          "base_uri": "https://localhost:8080/",
          "height": 349
        },
        "outputId": "38d763e7-6e5a-4ead-dbb6-0d96e700be04"
      },
      "source": [
        "model3.fit(df_train, y3)\n",
        "xgb.plot_importance(model3, max_num_features=10)"
      ],
      "execution_count": null,
      "outputs": [
        {
          "output_type": "stream",
          "text": [
            "[02:53:14] WARNING: /workspace/src/objective/regression_obj.cu:152: reg:linear is now deprecated in favor of reg:squarederror.\n"
          ],
          "name": "stdout"
        },
        {
          "output_type": "execute_result",
          "data": {
            "text/plain": [
              "<matplotlib.axes._subplots.AxesSubplot at 0x7f4ee97dab90>"
            ]
          },
          "metadata": {
            "tags": []
          },
          "execution_count": 33
        },
        {
          "output_type": "display_data",
          "data": {
            "image/png": "[encoded data removed]",
            "text/plain": [
              "<Figure size 432x288 with 1 Axes>"
            ]
          },
          "metadata": {
            "tags": [],
            "needs_background": "light"
          }
        }
      ]
    },
    {
      "cell_type": "code",
      "metadata": {
        "id": "J-XSJcmwGNFc",
        "colab": {
          "base_uri": "https://localhost:8080/",
          "height": 349
        },
        "outputId": "9fb6df00-761d-410d-9a7a-751d9ea48d82"
      },
      "source": [
        "model4.fit(df_train, y4)\n",
        "xgb.plot_importance(model4, max_num_features=10)"
      ],
      "execution_count": null,
      "outputs": [
        {
          "output_type": "stream",
          "text": [
            "[02:54:26] WARNING: /workspace/src/objective/regression_obj.cu:152: reg:linear is now deprecated in favor of reg:squarederror.\n"
          ],
          "name": "stdout"
        },
        {
          "output_type": "execute_result",
          "data": {
            "text/plain": [
              "<matplotlib.axes._subplots.AxesSubplot at 0x7f4ee98fc790>"
            ]
          },
          "metadata": {
            "tags": []
          },
          "execution_count": 34
        },
        {
          "output_type": "display_data",
          "data": {
            "image/png": "[encoded data removed]",
            "text/plain": [
              "<Figure size 432x288 with 1 Axes>"
            ]
          },
          "metadata": {
            "tags": [],
            "needs_background": "light"
          }
        }
      ]
    },
    {
      "cell_type": "code",
      "metadata": {
        "id": "9Yukrc-tGNBt"
      },
      "source": [
        "preds_ = pd.read_csv(\"chem_tech_ai_preds.csv\")"
      ],
      "execution_count": null,
      "outputs": []
    },
    {
      "cell_type": "code",
      "metadata": {
        "id": "bhb3aocMGM6N",
        "colab": {
          "base_uri": "https://localhost:8080/",
          "height": 419
        },
        "outputId": "ece0d4d7-abc2-4c4d-d8e1-14b9811828d2"
      },
      "source": [
        "preds_"
      ],
      "execution_count": null,
      "outputs": [
        {
          "output_type": "execute_result",
          "data": {
            "text/html": [
              "<div>\n",
              "<style scoped>\n",
              "    .dataframe tbody tr th:only-of-type {\n",
              "        vertical-align: middle;\n",
              "    }\n",
              "\n",
              "    .dataframe tbody tr th {\n",
              "        vertical-align: top;\n",
              "    }\n",
              "\n",
              "    .dataframe thead th {\n",
              "        text-align: right;\n",
              "    }\n",
              "</style>\n",
              "<table border=\"1\" class=\"dataframe\">\n",
              "  <thead>\n",
              "    <tr style=\"text-align: right;\">\n",
              "      <th></th>\n",
              "      <th>Unnamed: 0</th>\n",
              "      <th>target1</th>\n",
              "      <th>target2</th>\n",
              "      <th>target3</th>\n",
              "      <th>target4</th>\n",
              "    </tr>\n",
              "  </thead>\n",
              "  <tbody>\n",
              "    <tr>\n",
              "      <th>0</th>\n",
              "      <td>2017-01-03 21:21:00</td>\n",
              "      <td>0.001470</td>\n",
              "      <td>0.065658</td>\n",
              "      <td>0.929308</td>\n",
              "      <td>0.004316</td>\n",
              "    </tr>\n",
              "    <tr>\n",
              "      <th>1</th>\n",
              "      <td>2017-01-03 21:22:00</td>\n",
              "      <td>0.001471</td>\n",
              "      <td>0.065466</td>\n",
              "      <td>0.928287</td>\n",
              "      <td>0.004316</td>\n",
              "    </tr>\n",
              "    <tr>\n",
              "      <th>2</th>\n",
              "      <td>2017-01-03 21:23:00</td>\n",
              "      <td>0.001463</td>\n",
              "      <td>0.065093</td>\n",
              "      <td>0.928878</td>\n",
              "      <td>0.004316</td>\n",
              "    </tr>\n",
              "    <tr>\n",
              "      <th>3</th>\n",
              "      <td>2017-01-03 21:24:00</td>\n",
              "      <td>0.001463</td>\n",
              "      <td>0.065225</td>\n",
              "      <td>0.928359</td>\n",
              "      <td>0.004316</td>\n",
              "    </tr>\n",
              "    <tr>\n",
              "      <th>4</th>\n",
              "      <td>2017-01-03 21:25:00</td>\n",
              "      <td>0.001469</td>\n",
              "      <td>0.064943</td>\n",
              "      <td>0.929063</td>\n",
              "      <td>0.004503</td>\n",
              "    </tr>\n",
              "    <tr>\n",
              "      <th>...</th>\n",
              "      <td>...</td>\n",
              "      <td>...</td>\n",
              "      <td>...</td>\n",
              "      <td>...</td>\n",
              "      <td>...</td>\n",
              "    </tr>\n",
              "    <tr>\n",
              "      <th>99995</th>\n",
              "      <td>2017-03-14 07:56:00</td>\n",
              "      <td>0.001229</td>\n",
              "      <td>0.052446</td>\n",
              "      <td>0.942007</td>\n",
              "      <td>0.005409</td>\n",
              "    </tr>\n",
              "    <tr>\n",
              "      <th>99996</th>\n",
              "      <td>2017-03-14 07:57:00</td>\n",
              "      <td>0.001224</td>\n",
              "      <td>0.052171</td>\n",
              "      <td>0.941613</td>\n",
              "      <td>0.005409</td>\n",
              "    </tr>\n",
              "    <tr>\n",
              "      <th>99997</th>\n",
              "      <td>2017-03-14 07:58:00</td>\n",
              "      <td>0.001237</td>\n",
              "      <td>0.052601</td>\n",
              "      <td>0.941539</td>\n",
              "      <td>0.005383</td>\n",
              "    </tr>\n",
              "    <tr>\n",
              "      <th>99998</th>\n",
              "      <td>2017-03-14 07:59:00</td>\n",
              "      <td>0.001236</td>\n",
              "      <td>0.052258</td>\n",
              "      <td>0.941547</td>\n",
              "      <td>0.005384</td>\n",
              "    </tr>\n",
              "    <tr>\n",
              "      <th>99999</th>\n",
              "      <td>2017-03-14 08:00:00</td>\n",
              "      <td>0.001242</td>\n",
              "      <td>0.052571</td>\n",
              "      <td>0.941265</td>\n",
              "      <td>0.005384</td>\n",
              "    </tr>\n",
              "  </tbody>\n",
              "</table>\n",
              "<p>100000 rows × 5 columns</p>\n",
              "</div>"
            ],
            "text/plain": [
              "                Unnamed: 0   target1   target2   target3   target4\n",
              "0      2017-01-03 21:21:00  0.001470  0.065658  0.929308  0.004316\n",
              "1      2017-01-03 21:22:00  0.001471  0.065466  0.928287  0.004316\n",
              "2      2017-01-03 21:23:00  0.001463  0.065093  0.928878  0.004316\n",
              "3      2017-01-03 21:24:00  0.001463  0.065225  0.928359  0.004316\n",
              "4      2017-01-03 21:25:00  0.001469  0.064943  0.929063  0.004503\n",
              "...                    ...       ...       ...       ...       ...\n",
              "99995  2017-03-14 07:56:00  0.001229  0.052446  0.942007  0.005409\n",
              "99996  2017-03-14 07:57:00  0.001224  0.052171  0.941613  0.005409\n",
              "99997  2017-03-14 07:58:00  0.001237  0.052601  0.941539  0.005383\n",
              "99998  2017-03-14 07:59:00  0.001236  0.052258  0.941547  0.005384\n",
              "99999  2017-03-14 08:00:00  0.001242  0.052571  0.941265  0.005384\n",
              "\n",
              "[100000 rows x 5 columns]"
            ]
          },
          "metadata": {
            "tags": []
          },
          "execution_count": 38
        }
      ]
    },
    {
      "cell_type": "code",
      "metadata": {
        "id": "WvTF3er1GM2g"
      },
      "source": [
        ""
      ],
      "execution_count": null,
      "outputs": []
    },
    {
      "cell_type": "code",
      "metadata": {
        "id": "km6ocw2OGMy5"
      },
      "source": [
        ""
      ],
      "execution_count": null,
      "outputs": []
    },
    {
      "cell_type": "code",
      "metadata": {
        "id": "lNKyvarFGMuy"
      },
      "source": [
        ""
      ],
      "execution_count": null,
      "outputs": []
    },
    {
      "cell_type": "code",
      "metadata": {
        "id": "r-tIEqhuGMpR"
      },
      "source": [
        ""
      ],
      "execution_count": null,
      "outputs": []
    },
    {
      "cell_type": "code",
      "metadata": {
        "id": "9GdMLpHPGMlH"
      },
      "source": [
        ""
      ],
      "execution_count": null,
      "outputs": []
    },
    {
      "cell_type": "code",
      "metadata": {
        "id": "zajPE-0_GMfX"
      },
      "source": [
        ""
      ],
      "execution_count": null,
      "outputs": []
    },
    {
      "cell_type": "code",
      "metadata": {
        "id": "MVsDOKL_GMbk"
      },
      "source": [
        ""
      ],
      "execution_count": null,
      "outputs": []
    },
    {
      "cell_type": "code",
      "metadata": {
        "id": "YTOIkMdcGMX1"
      },
      "source": [
        ""
      ],
      "execution_count": null,
      "outputs": []
    },
    {
      "cell_type": "code",
      "metadata": {
        "id": "hPc0EKxNGMUI"
      },
      "source": [
        ""
      ],
      "execution_count": null,
      "outputs": []
    },
    {
      "cell_type": "code",
      "metadata": {
        "id": "F4Px9czoGMPr"
      },
      "source": [
        ""
      ],
      "execution_count": null,
      "outputs": []
    },
    {
      "cell_type": "code",
      "metadata": {
        "id": "aTMZsR9yGMLT"
      },
      "source": [
        ""
      ],
      "execution_count": null,
      "outputs": []
    },
    {
      "cell_type": "code",
      "metadata": {
        "id": "UekSkPjrGMHZ"
      },
      "source": [
        ""
      ],
      "execution_count": null,
      "outputs": []
    },
    {
      "cell_type": "code",
      "metadata": {
        "id": "pa5Qj5qXGL8U"
      },
      "source": [
        ""
      ],
      "execution_count": null,
      "outputs": []
    },
    {
      "cell_type": "code",
      "metadata": {
        "id": "pW5dpkrmGLuG"
      },
      "source": [
        ""
      ],
      "execution_count": null,
      "outputs": []
    }
  ]
}